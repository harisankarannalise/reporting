{
 "cells": [
  {
   "cell_type": "code",
   "execution_count": 3,
   "metadata": {
    "tags": []
   },
   "outputs": [
    {
     "name": "stdout",
     "output_type": "stream",
     "text": [
      "env: TRANSPORT_CLIENT_ID=VASnR40OkB79la1t\n",
      "env: TRANSPORT_CLIENT_SECRET=vD3awmHDe7bVd77VQRm4PL20g7RgEbMF\n",
      "env: TRANSPORT_ENDPOINT=http://127.0.0.1:5000\n"
     ]
    }
   ],
   "source": [
    "%env TRANSPORT_CLIENT_ID=\n",
    "%env TRANSPORT_CLIENT_SECRET=\n",
    "%env TRANSPORT_ENDPOINT=http://127.0.0.1:5000"
   ]
  },
  {
   "cell_type": "code",
   "execution_count": 4,
   "metadata": {},
   "outputs": [
    {
     "name": "stderr",
     "output_type": "stream",
     "text": [
      "WARNING:root:Weasyprint is not available, will not be able to write PDFs\n"
     ]
    }
   ],
   "source": [
    "from data_uploader.model_interface import DicomProcessor\n",
    "import pydicom\n",
    "import base64\n",
    "import json\n",
    "import ntpath\n",
    "from pathlib import Path\n",
    "from os import walk, path"
   ]
  },
  {
   "cell_type": "code",
   "execution_count": 5,
   "metadata": {
    "scrolled": true,
    "tags": []
   },
   "outputs": [],
   "source": [
    "search_directory = \"/mnt/c/source/data/jp2validationdata/VALDAT-017/\"\n",
    "\n",
    "files_to_open = []\n",
    "for root, _, files in walk(search_directory, topdown=True, onerror=None):\n",
    "    files_to_open.extend(\n",
    "        path.join(root, filename)\n",
    "        for filename in files\n",
    "        if filename.endswith(\".dcm\")\n",
    "    )\n",
    "\n",
    "for dcm_file in files_to_open:\n",
    "    dp = DicomProcessor([pydicom.read_file(dcm_file)])\n",
    "    payload = dp.vision_request()\n",
    "    image = payload['images'][0]\n",
    "    j2c_data = base64.b64decode(image['data'])\n",
    "    with open(f'{Path(dcm_file).stem}.j2c', 'wb') as f:\n",
    "        f.write(j2c_data)\n",
    "    del image['data']\n",
    "    json.dump(payload, open(f'{Path(dcm_file).stem}.json', 'w'))"
   ]
  },
  {
   "cell_type": "code",
   "execution_count": null,
   "metadata": {},
   "outputs": [],
   "source": []
  }
 ],
 "metadata": {
  "kernelspec": {
   "display_name": "Python 3",
   "language": "python",
   "name": "python3"
  },
  "language_info": {
   "codemirror_mode": {
    "name": "ipython",
    "version": 3
   },
   "file_extension": ".py",
   "mimetype": "text/x-python",
   "name": "python",
   "nbconvert_exporter": "python",
   "pygments_lexer": "ipython3",
   "version": "3.8.2"
  }
 },
 "nbformat": 4,
 "nbformat_minor": 2
}